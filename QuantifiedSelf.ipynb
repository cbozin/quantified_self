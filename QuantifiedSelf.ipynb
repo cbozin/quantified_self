{
 "cells": [
  {
   "attachments": {},
   "cell_type": "markdown",
   "metadata": {},
   "source": [
    "# Quantified Self Project\n",
    "_Author : Carolyn Bozin_  \n",
    "_Date Updated : 12/21/2022_  \n",
    "_Course : CPSC222_  \n",
    "## 1. Introduction  \n",
    "In this Jupyter Notebook I will be exploring some of my location data through a multipstep process.   \n",
    "### a. Domain: \n",
    "* My \"Semantic Location\" Data from the Google Takeout service (Google Maps).  \n",
    "* I am interested in doing research on this data because I want to see if I have had different movement habits (i.e. deviation in distance travelled, amount of time taken, and activity type) based on where I was at different points in my life. In this project I will be focusing on my data from Spring 2022 when studied abroad in Madrid, Spain, and comparing it to my data from Summer 2022 when I got back to Spokane.  "
   ]
  },
  {
   "cell_type": "markdown",
   "metadata": {},
   "source": [
    "### b. About the Data:\n",
    "\n",
    "My dataset is in multiple JSON files which are seperated by month. The tables that I am including from the dataset are all from the \"Activity Segment\" portion of the JSON file, which is just periods when I moved from one location to another. The attributes of my Activity Segments that I am including are as listed in this chart:\n",
    "\n",
    "1. **Start Timestamp** : Date and time when I started the activity segment \n",
    "1. **End Timestamp** : date and time when I ended the activity segment \n",
    "1. **Start Latitude** : Latitude of starting location\n",
    "1. **Start Longitude** : Longitude of starting location\n",
    "1. **End Latitude** : Latitude of ending location\n",
    "1. **End Longitude** : Longitude of ending location\n",
    "1. **Distance** : distance travelled in meters\n",
    "1. **Activity** : my method of travel. Activities that are represented in my data are walking, riding the subway, riding the bus, riding in a passenger vehicle (car), riding on a plane, riding a ferry, and riding a train\n",
    "\n",
    ">Note: This data was all collected by Google Maps through either cell service or GPS. \n",
    ">Time Zone and formatting was accounted for.\n",
    "  \n",
    "The data that I decided to pull from the dataset are from the time that I was studying abroad, which is roughly from Jan 21 2022 to May 5 2022, and additionally from last Summer when I was in Spokane, which is roughly from May 22 2022 to August 14 2022. This turns out to be about 642 instances for my study abroad data and about 363 instances for my Spokane data. \n",
    "\n"
   ]
  },
  {
   "cell_type": "markdown",
   "metadata": {},
   "source": [
    "### c. Hypotheses  \n",
    "\n",
    "* my average distance travelled in Spain was larger than in Spokane, but not by a lot. My reasoning is that although I did not have a car to travel large distances, I travelled by train and plane there occasionally. \n",
    "\n",
    "My next few hypotheses are only regarding the Spain sample. \n",
    "* I am going to use the MeteoStat weather API to test my hypothesis that I did not travel significantly less distance when the average temperature was lower. My reasoning is that I had to go to school most days no matter the weather, and also I tried to get the most out of my time there even if it was cold. It also did not get super cold except for when I first arrived there.  \n",
    "\n",
    "*  mean distance travelled over weekends will be larger than on weekdays, since I had more free time and did not have school. As a side note, I am including Fridays in my weekends because I did not have classes. I am going to use the kNN algroithm and a Decision Tree to classify data on \"weekend\" vs \"weekday\" labels. \n",
    "\n",
    "### d. Potential Impacts & Stakeholders  \n",
    "Mostly these results are to sate my own curiosity. However, a potential impact could be an improved self awareness of my travel methods. In particular, maybe seeing how much I walked in Spain will motivate me to walk more back in Spokane. Potential stakeholders are me and anyone curious about studying abroad in Madrid perhaps.\n",
    "\n",
    "\n",
    "## 2. Exploratory Data Analysis (EDA)   \n",
    "Now that I have explained the data a little bit, we can continue to the EDA. This section will consist of loading the data, cleaning the data, making vizualizations, and finallly doing hypothesis tests.\n",
    "### a. Data Loading  \n",
    "The first step is to load the data from JSON format into one big dataframe that contains all the dates I need. Overall I need data from January, February, March, April, May, June, July, and August of 2022. I will split the data up later.\n",
    "\n",
    ">Note : I used [`pd.concat()`](https://pandas.pydata.org/pandas-docs/stable/reference/api/pandas.concat.html) to combine the different months. "
   ]
  },
  {
   "cell_type": "code",
   "execution_count": 86,
   "metadata": {},
   "outputs": [
    {
     "data": {
      "text/html": [
       "<div>\n",
       "<style scoped>\n",
       "    .dataframe tbody tr th:only-of-type {\n",
       "        vertical-align: middle;\n",
       "    }\n",
       "\n",
       "    .dataframe tbody tr th {\n",
       "        vertical-align: top;\n",
       "    }\n",
       "\n",
       "    .dataframe thead th {\n",
       "        text-align: right;\n",
       "    }\n",
       "</style>\n",
       "<table border=\"1\" class=\"dataframe\">\n",
       "  <thead>\n",
       "    <tr style=\"text-align: right;\">\n",
       "      <th></th>\n",
       "      <th>timelineObjects</th>\n",
       "    </tr>\n",
       "  </thead>\n",
       "  <tbody>\n",
       "    <tr>\n",
       "      <th>0</th>\n",
       "      <td>{'placeVisit': {'location': {'latitudeE7': 477...</td>\n",
       "    </tr>\n",
       "    <tr>\n",
       "      <th>1</th>\n",
       "      <td>{'activitySegment': {'startLocation': {'latitu...</td>\n",
       "    </tr>\n",
       "    <tr>\n",
       "      <th>2</th>\n",
       "      <td>{'placeVisit': {'location': {'latitudeE7': 477...</td>\n",
       "    </tr>\n",
       "    <tr>\n",
       "      <th>3</th>\n",
       "      <td>{'activitySegment': {'startLocation': {'latitu...</td>\n",
       "    </tr>\n",
       "    <tr>\n",
       "      <th>4</th>\n",
       "      <td>{'placeVisit': {'location': {'latitudeE7': 478...</td>\n",
       "    </tr>\n",
       "    <tr>\n",
       "      <th>...</th>\n",
       "      <td>...</td>\n",
       "    </tr>\n",
       "    <tr>\n",
       "      <th>242</th>\n",
       "      <td>{'activitySegment': {'startLocation': {'latitu...</td>\n",
       "    </tr>\n",
       "    <tr>\n",
       "      <th>243</th>\n",
       "      <td>{'placeVisit': {'location': {'latitudeE7': 476...</td>\n",
       "    </tr>\n",
       "    <tr>\n",
       "      <th>244</th>\n",
       "      <td>{'placeVisit': {'location': {'latitudeE7': 476...</td>\n",
       "    </tr>\n",
       "    <tr>\n",
       "      <th>245</th>\n",
       "      <td>{'activitySegment': {'startLocation': {'latitu...</td>\n",
       "    </tr>\n",
       "    <tr>\n",
       "      <th>246</th>\n",
       "      <td>{'placeVisit': {'location': {'latitudeE7': 476...</td>\n",
       "    </tr>\n",
       "  </tbody>\n",
       "</table>\n",
       "<p>2357 rows × 1 columns</p>\n",
       "</div>"
      ],
      "text/plain": [
       "                                       timelineObjects\n",
       "0    {'placeVisit': {'location': {'latitudeE7': 477...\n",
       "1    {'activitySegment': {'startLocation': {'latitu...\n",
       "2    {'placeVisit': {'location': {'latitudeE7': 477...\n",
       "3    {'activitySegment': {'startLocation': {'latitu...\n",
       "4    {'placeVisit': {'location': {'latitudeE7': 478...\n",
       "..                                                 ...\n",
       "242  {'activitySegment': {'startLocation': {'latitu...\n",
       "243  {'placeVisit': {'location': {'latitudeE7': 476...\n",
       "244  {'placeVisit': {'location': {'latitudeE7': 476...\n",
       "245  {'activitySegment': {'startLocation': {'latitu...\n",
       "246  {'placeVisit': {'location': {'latitudeE7': 476...\n",
       "\n",
       "[2357 rows x 1 columns]"
      ]
     },
     "execution_count": 86,
     "metadata": {},
     "output_type": "execute_result"
    }
   ],
   "source": [
    "import pandas as pd\n",
    "import utils \n",
    "import importlib\n",
    "import matplotlib.pyplot as plt\n",
    "\n",
    "importlib.reload(utils) # to reload utils every time\n",
    "\n",
    "jan_aug_df = utils.load_data()\n",
    "jan_aug_df"
   ]
  },
  {
   "attachments": {},
   "cell_type": "markdown",
   "metadata": {},
   "source": [
    "The data from the months I need is now in a dataframe title \"timeline Objects\". Granted, it still contains information I do not want (such as place visit data) and it is not organized into two dataframes like I want it to be. The next step is to take care of both these things."
   ]
  },
  {
   "attachments": {},
   "cell_type": "markdown",
   "metadata": {},
   "source": [
    "* Split Into Two Dataframes  \n",
    "    * In this section, I will split the Google Maps dataframe of JSON data into two dataframes (one for Madrid, one for Spokane) based on the Start Timestamps of each activity segment. I will also convert the Timestamps to Python Datetime objects, which will make them slightly more human readable and a lot easier to work with. \n"
   ]
  },
  {
   "attachments": {},
   "cell_type": "markdown",
   "metadata": {},
   "source": [
    "* The next step will be to parse through the dataframe, go into each activity segment while ignoring the place visits, and grab all of the data for each activity segment that has a Start Timestamp within the range of dates I want. To get the index of the data I need, I will print out activity segments from the first and last day of my range. I will then pick the first and last indeces printed as my indeces to split the dataframe on.\n",
    "\n",
    "* For my study abroad data, I will pass in the dates 2022-01-21 and 2022-05-05 to my utility function, which will print the indeces I want."
   ]
  },
  {
   "cell_type": "code",
   "execution_count": 87,
   "metadata": {},
   "outputs": [
    {
     "name": "stdout",
     "output_type": "stream",
     "text": [
      "118 1333\n"
     ]
    }
   ],
   "source": [
    "start_end_vals = utils.get_start_end(jan_aug_df, \"2022-01-21\", \"2022-05-05\")\n",
    "print(start_end_vals[0], start_end_vals[-1])"
   ]
  },
  {
   "attachments": {},
   "cell_type": "markdown",
   "metadata": {},
   "source": [
    "The first instance from the start date is 118, and the last instance from the end date is 1333. Using these two values to divide the dataframe I can parse through the JSON data in jan_to_aug.csv and make a new dataframe of the data from my time in Madrid."
   ]
  },
  {
   "cell_type": "code",
   "execution_count": 88,
   "metadata": {},
   "outputs": [
    {
     "data": {
      "text/html": [
       "<div>\n",
       "<style scoped>\n",
       "    .dataframe tbody tr th:only-of-type {\n",
       "        vertical-align: middle;\n",
       "    }\n",
       "\n",
       "    .dataframe tbody tr th {\n",
       "        vertical-align: top;\n",
       "    }\n",
       "\n",
       "    .dataframe thead th {\n",
       "        text-align: right;\n",
       "    }\n",
       "</style>\n",
       "<table border=\"1\" class=\"dataframe\">\n",
       "  <thead>\n",
       "    <tr style=\"text-align: right;\">\n",
       "      <th></th>\n",
       "      <th>Start Timestamp</th>\n",
       "      <th>End Timestamp</th>\n",
       "      <th>Start Latitude</th>\n",
       "      <th>Start Longitude</th>\n",
       "      <th>End Latitude</th>\n",
       "      <th>End Longitude</th>\n",
       "      <th>Distance (m)</th>\n",
       "      <th>Activity</th>\n",
       "    </tr>\n",
       "  </thead>\n",
       "  <tbody>\n",
       "    <tr>\n",
       "      <th>589</th>\n",
       "      <td>2022-04-27T11:04:07.238Z</td>\n",
       "      <td>2022-04-27T11:32:02.408Z</td>\n",
       "      <td>404147188</td>\n",
       "      <td>-36925347</td>\n",
       "      <td>404122721</td>\n",
       "      <td>-37043427</td>\n",
       "      <td>1400</td>\n",
       "      <td>WALKING</td>\n",
       "    </tr>\n",
       "  </tbody>\n",
       "</table>\n",
       "</div>"
      ],
      "text/plain": [
       "              Start Timestamp             End Timestamp  Start Latitude  \\\n",
       "589  2022-04-27T11:04:07.238Z  2022-04-27T11:32:02.408Z       404147188   \n",
       "\n",
       "     Start Longitude  End Latitude  End Longitude  Distance (m) Activity  \n",
       "589        -36925347     404122721      -37043427          1400  WALKING  "
      ]
     },
     "execution_count": 88,
     "metadata": {},
     "output_type": "execute_result"
    }
   ],
   "source": [
    "start = 118\n",
    "end = 1333\n",
    "\n",
    "study_abroad_df = utils.make_dataframe(jan_aug_df, start, end)\n",
    "study_abroad_df.sample()"
   ]
  },
  {
   "attachments": {},
   "cell_type": "markdown",
   "metadata": {},
   "source": [
    "This looks much cleaner than the JSON data! Now that we have a dataframe for my study abroad time, the next step is to make one for my time in Spokane last Summer. This will include all instances from the dates 2022-05-22 to 2022-08-22."
   ]
  },
  {
   "cell_type": "code",
   "execution_count": 89,
   "metadata": {},
   "outputs": [
    {
     "data": {
      "text/plain": [
       "[1491, 1493, 2210, 2212, 2214, 2216]"
      ]
     },
     "execution_count": 89,
     "metadata": {},
     "output_type": "execute_result"
    }
   ],
   "source": [
    "utils.get_start_end(jan_aug_df, \"2022-05-22\", \"2022-08-14\")"
   ]
  },
  {
   "attachments": {},
   "cell_type": "markdown",
   "metadata": {},
   "source": [
    "The first instance from the start date is 1491, and the last index from the end date is 2216. Now we can make a dataframe for my data from Spokane in the Summer of 2022. "
   ]
  },
  {
   "cell_type": "code",
   "execution_count": 90,
   "metadata": {},
   "outputs": [
    {
     "data": {
      "text/html": [
       "<div>\n",
       "<style scoped>\n",
       "    .dataframe tbody tr th:only-of-type {\n",
       "        vertical-align: middle;\n",
       "    }\n",
       "\n",
       "    .dataframe tbody tr th {\n",
       "        vertical-align: top;\n",
       "    }\n",
       "\n",
       "    .dataframe thead th {\n",
       "        text-align: right;\n",
       "    }\n",
       "</style>\n",
       "<table border=\"1\" class=\"dataframe\">\n",
       "  <thead>\n",
       "    <tr style=\"text-align: right;\">\n",
       "      <th></th>\n",
       "      <th>Start Timestamp</th>\n",
       "      <th>End Timestamp</th>\n",
       "      <th>Start Latitude</th>\n",
       "      <th>Start Longitude</th>\n",
       "      <th>End Latitude</th>\n",
       "      <th>End Longitude</th>\n",
       "      <th>Distance (m)</th>\n",
       "      <th>Activity</th>\n",
       "    </tr>\n",
       "  </thead>\n",
       "  <tbody>\n",
       "    <tr>\n",
       "      <th>246</th>\n",
       "      <td>2022-07-19T15:47:51.903Z</td>\n",
       "      <td>2022-07-19T15:55:50.970Z</td>\n",
       "      <td>476748733</td>\n",
       "      <td>-1173911247</td>\n",
       "      <td>476678280</td>\n",
       "      <td>-1174012022</td>\n",
       "      <td>1611</td>\n",
       "      <td>IN_PASSENGER_VEHICLE</td>\n",
       "    </tr>\n",
       "  </tbody>\n",
       "</table>\n",
       "</div>"
      ],
      "text/plain": [
       "              Start Timestamp             End Timestamp  Start Latitude  \\\n",
       "246  2022-07-19T15:47:51.903Z  2022-07-19T15:55:50.970Z       476748733   \n",
       "\n",
       "     Start Longitude  End Latitude  End Longitude  Distance (m)  \\\n",
       "246      -1173911247     476678280    -1174012022          1611   \n",
       "\n",
       "                 Activity  \n",
       "246  IN_PASSENGER_VEHICLE  "
      ]
     },
     "execution_count": 90,
     "metadata": {},
     "output_type": "execute_result"
    }
   ],
   "source": [
    "start = 1491\n",
    "end = 2216\n",
    "\n",
    "summer_df = utils.make_dataframe(jan_aug_df, start, end)\n",
    "summer_df.sample()"
   ]
  },
  {
   "attachments": {},
   "cell_type": "markdown",
   "metadata": {},
   "source": [
    "#### b. Data Cleaning \n",
    "* Check For Missing Values  \n",
    "    * I did not see any missing data while parsing through the dataframes visually, but just in case I will check with Python using the `df.isna()` function along with `.value_counts()`."
   ]
  },
  {
   "cell_type": "code",
   "execution_count": 91,
   "metadata": {},
   "outputs": [
    {
     "name": "stdout",
     "output_type": "stream",
     "text": [
      "Start Timestamp  End Timestamp  Start Latitude  Start Longitude  End Latitude  End Longitude  Distance (m)  Activity\n",
      "False            False          False           False            False         False          False         False       642\n",
      "Name: count, dtype: int64\n",
      "Start Timestamp  End Timestamp  Start Latitude  Start Longitude  End Latitude  End Longitude  Distance (m)  Activity\n",
      "False            False          False           False            False         False          False         False       363\n",
      "Name: count, dtype: int64\n"
     ]
    }
   ],
   "source": [
    "print(study_abroad_df.isna().value_counts())\n",
    "print(summer_df.isna().value_counts())"
   ]
  },
  {
   "attachments": {},
   "cell_type": "markdown",
   "metadata": {},
   "source": [
    "Just as I suspected, all the columns are 'False' meaning there are no missing values."
   ]
  },
  {
   "attachments": {},
   "cell_type": "markdown",
   "metadata": {},
   "source": [
    "* Convert Timestamps to DateTime \n",
    "    * The next step is to take the Start and End Timestamps and convert them to pandas `dateTime` objects so that they are easier to work with later on."
   ]
  },
  {
   "cell_type": "code",
   "execution_count": 92,
   "metadata": {},
   "outputs": [
    {
     "data": {
      "text/html": [
       "<div>\n",
       "<style scoped>\n",
       "    .dataframe tbody tr th:only-of-type {\n",
       "        vertical-align: middle;\n",
       "    }\n",
       "\n",
       "    .dataframe tbody tr th {\n",
       "        vertical-align: top;\n",
       "    }\n",
       "\n",
       "    .dataframe thead th {\n",
       "        text-align: right;\n",
       "    }\n",
       "</style>\n",
       "<table border=\"1\" class=\"dataframe\">\n",
       "  <thead>\n",
       "    <tr style=\"text-align: right;\">\n",
       "      <th></th>\n",
       "      <th>Start Timestamp</th>\n",
       "      <th>End Timestamp</th>\n",
       "      <th>Start Latitude</th>\n",
       "      <th>Start Longitude</th>\n",
       "      <th>End Latitude</th>\n",
       "      <th>End Longitude</th>\n",
       "      <th>Distance (m)</th>\n",
       "      <th>Activity</th>\n",
       "    </tr>\n",
       "  </thead>\n",
       "  <tbody>\n",
       "    <tr>\n",
       "      <th>270</th>\n",
       "      <td>2022-07-24 19:05:37+00:00</td>\n",
       "      <td>2022-07-24 19:18:10.991000+00:00</td>\n",
       "      <td>476376887</td>\n",
       "      <td>-1223511363</td>\n",
       "      <td>476555447</td>\n",
       "      <td>-1223807076</td>\n",
       "      <td>3898</td>\n",
       "      <td>IN_PASSENGER_VEHICLE</td>\n",
       "    </tr>\n",
       "  </tbody>\n",
       "</table>\n",
       "</div>"
      ],
      "text/plain": [
       "              Start Timestamp                    End Timestamp  \\\n",
       "270 2022-07-24 19:05:37+00:00 2022-07-24 19:18:10.991000+00:00   \n",
       "\n",
       "     Start Latitude  Start Longitude  End Latitude  End Longitude  \\\n",
       "270       476376887      -1223511363     476555447    -1223807076   \n",
       "\n",
       "     Distance (m)              Activity  \n",
       "270          3898  IN_PASSENGER_VEHICLE  "
      ]
     },
     "execution_count": 92,
     "metadata": {},
     "output_type": "execute_result"
    }
   ],
   "source": [
    "start_fixed = pd.to_datetime(summer_df[\"Start Timestamp\"], format='ISO8601')\n",
    "end_fixed = pd.to_datetime(summer_df[\"End Timestamp\"], format='ISO8601')\n",
    "\n",
    "summer_df[\"Start Timestamp\"] = start_fixed\n",
    "summer_df[\"End Timestamp\"] = end_fixed\n",
    "\n",
    "summer_df.sample()"
   ]
  },
  {
   "attachments": {},
   "cell_type": "markdown",
   "metadata": {},
   "source": [
    "That still looks a bit cluttered, but at the very least it is in a better format and timezones have been adjusted for. Next we have to do the same for the study abroad data."
   ]
  },
  {
   "cell_type": "code",
   "execution_count": 93,
   "metadata": {},
   "outputs": [],
   "source": [
    "start_fixed = pd.to_datetime(study_abroad_df[\"Start Timestamp\"], format='ISO8601')\n",
    "end_fixed = pd.to_datetime(study_abroad_df[\"End Timestamp\"], format='ISO8601')\n",
    "\n",
    "study_abroad_df[\"Start Timestamp\"] = start_fixed\n",
    "study_abroad_df[\"End Timestamp\"] = end_fixed"
   ]
  },
  {
   "attachments": {},
   "cell_type": "markdown",
   "metadata": {},
   "source": [
    "* Add Date Column  \n",
    "    * Since I am going to do some analysis on daily activity later on, it will be useful to add a seperate column with just the dates extracted from the timestamps. We can do this by using [strftime()](https://www.programiz.com/python-programming/datetime/strftime) (a function to convert datetime objects to strings) in a utility function."
   ]
  },
  {
   "cell_type": "code",
   "execution_count": 94,
   "metadata": {},
   "outputs": [
    {
     "data": {
      "text/html": [
       "<div>\n",
       "<style scoped>\n",
       "    .dataframe tbody tr th:only-of-type {\n",
       "        vertical-align: middle;\n",
       "    }\n",
       "\n",
       "    .dataframe tbody tr th {\n",
       "        vertical-align: top;\n",
       "    }\n",
       "\n",
       "    .dataframe thead th {\n",
       "        text-align: right;\n",
       "    }\n",
       "</style>\n",
       "<table border=\"1\" class=\"dataframe\">\n",
       "  <thead>\n",
       "    <tr style=\"text-align: right;\">\n",
       "      <th></th>\n",
       "      <th>Date</th>\n",
       "      <th>Start Timestamp</th>\n",
       "      <th>End Timestamp</th>\n",
       "      <th>Start Latitude</th>\n",
       "      <th>Start Longitude</th>\n",
       "      <th>End Latitude</th>\n",
       "      <th>End Longitude</th>\n",
       "      <th>Distance (m)</th>\n",
       "      <th>Activity</th>\n",
       "    </tr>\n",
       "  </thead>\n",
       "  <tbody>\n",
       "    <tr>\n",
       "      <th>319</th>\n",
       "      <td>2022-03-10</td>\n",
       "      <td>2022-03-10 12:19:19.274000+00:00</td>\n",
       "      <td>2022-03-10 12:20:32.600000+00:00</td>\n",
       "      <td>404081935</td>\n",
       "      <td>-37037188</td>\n",
       "      <td>404074418</td>\n",
       "      <td>-37039731</td>\n",
       "      <td>92</td>\n",
       "      <td>WALKING</td>\n",
       "    </tr>\n",
       "  </tbody>\n",
       "</table>\n",
       "</div>"
      ],
      "text/plain": [
       "           Date                  Start Timestamp  \\\n",
       "319  2022-03-10 2022-03-10 12:19:19.274000+00:00   \n",
       "\n",
       "                       End Timestamp  Start Latitude  Start Longitude  \\\n",
       "319 2022-03-10 12:20:32.600000+00:00       404081935        -37037188   \n",
       "\n",
       "     End Latitude  End Longitude  Distance (m) Activity  \n",
       "319     404074418      -37039731            92  WALKING  "
      ]
     },
     "execution_count": 94,
     "metadata": {},
     "output_type": "execute_result"
    }
   ],
   "source": [
    "date_lst = utils.make_date_col(study_abroad_df)\n",
    "# add col to study abroad df\n",
    "study_abroad_df.insert(column=\"Date\", value=date_lst, loc=0)\n",
    "study_abroad_df.sample()"
   ]
  },
  {
   "cell_type": "code",
   "execution_count": 95,
   "metadata": {},
   "outputs": [],
   "source": [
    "date_lst = utils.make_date_col(summer_df)\n",
    "# add col to summer df\n",
    "summer_df.insert(column=\"Date\", value=date_lst, loc=0)\n"
   ]
  },
  {
   "attachments": {},
   "cell_type": "markdown",
   "metadata": {},
   "source": [
    "* Fix Latitude and Longitude Columns   \n",
    "    * The latitude and longitude is not displayed badly, but adding a decimal point would make it more understandable to the viewer. Using my knowledge of the latitude and longitude of both Madrid and Spain, I will insert a decimal point into each of these values."
   ]
  },
  {
   "cell_type": "code",
   "execution_count": 96,
   "metadata": {},
   "outputs": [
    {
     "data": {
      "text/html": [
       "<div>\n",
       "<style scoped>\n",
       "    .dataframe tbody tr th:only-of-type {\n",
       "        vertical-align: middle;\n",
       "    }\n",
       "\n",
       "    .dataframe tbody tr th {\n",
       "        vertical-align: top;\n",
       "    }\n",
       "\n",
       "    .dataframe thead th {\n",
       "        text-align: right;\n",
       "    }\n",
       "</style>\n",
       "<table border=\"1\" class=\"dataframe\">\n",
       "  <thead>\n",
       "    <tr style=\"text-align: right;\">\n",
       "      <th></th>\n",
       "      <th>Date</th>\n",
       "      <th>Start Timestamp</th>\n",
       "      <th>End Timestamp</th>\n",
       "      <th>Start Latitude</th>\n",
       "      <th>Start Longitude</th>\n",
       "      <th>End Latitude</th>\n",
       "      <th>End Longitude</th>\n",
       "      <th>Distance (m)</th>\n",
       "      <th>Activity</th>\n",
       "    </tr>\n",
       "  </thead>\n",
       "  <tbody>\n",
       "    <tr>\n",
       "      <th>459</th>\n",
       "      <td>2022-03-31</td>\n",
       "      <td>2022-03-31 14:43:27.566000+00:00</td>\n",
       "      <td>2022-03-31 14:55:41.756000+00:00</td>\n",
       "      <td>40.4050982</td>\n",
       "      <td>-3.7022846</td>\n",
       "      <td>40.4293302</td>\n",
       "      <td>-3.7013957</td>\n",
       "      <td>2829</td>\n",
       "      <td>IN_SUBWAY</td>\n",
       "    </tr>\n",
       "  </tbody>\n",
       "</table>\n",
       "</div>"
      ],
      "text/plain": [
       "           Date                  Start Timestamp  \\\n",
       "459  2022-03-31 2022-03-31 14:43:27.566000+00:00   \n",
       "\n",
       "                       End Timestamp Start Latitude Start Longitude  \\\n",
       "459 2022-03-31 14:55:41.756000+00:00     40.4050982      -3.7022846   \n",
       "\n",
       "    End Latitude End Longitude  Distance (m)   Activity  \n",
       "459   40.4293302    -3.7013957          2829  IN_SUBWAY  "
      ]
     },
     "execution_count": 96,
     "metadata": {},
     "output_type": "execute_result"
    }
   ],
   "source": [
    "#madrid\n",
    "utils.fix_lat_lon_all(study_abroad_df)\n",
    "study_abroad_df.sample()"
   ]
  },
  {
   "cell_type": "code",
   "execution_count": 97,
   "metadata": {},
   "outputs": [],
   "source": [
    "#spokane\n",
    "utils.fix_lat_lon_all(summer_df)\n"
   ]
  },
  {
   "attachments": {},
   "cell_type": "markdown",
   "metadata": {},
   "source": [
    "* Make Activity Column Numeric  \n",
    "    * The last step in cleaning this data will be to encode the Activity column into numeric data using the `sklearn.preprocessing.LabelEncoder()`. This will help down the road when I will be doing hypothesis testing on my Activity data. I will still keep the original categorical Activity data just so it is more user friendly. So that the encoding is consistent across both dataframes, I will first concatenate them and make one large dataframe. Then after wncoding I will seperate them once again."
   ]
  },
  {
   "cell_type": "code",
   "execution_count": 98,
   "metadata": {},
   "outputs": [
    {
     "data": {
      "text/html": [
       "<div>\n",
       "<style scoped>\n",
       "    .dataframe tbody tr th:only-of-type {\n",
       "        vertical-align: middle;\n",
       "    }\n",
       "\n",
       "    .dataframe tbody tr th {\n",
       "        vertical-align: top;\n",
       "    }\n",
       "\n",
       "    .dataframe thead th {\n",
       "        text-align: right;\n",
       "    }\n",
       "</style>\n",
       "<table border=\"1\" class=\"dataframe\">\n",
       "  <thead>\n",
       "    <tr style=\"text-align: right;\">\n",
       "      <th></th>\n",
       "      <th>Date</th>\n",
       "      <th>Start Timestamp</th>\n",
       "      <th>End Timestamp</th>\n",
       "      <th>Start Latitude</th>\n",
       "      <th>Start Longitude</th>\n",
       "      <th>End Latitude</th>\n",
       "      <th>End Longitude</th>\n",
       "      <th>Distance (m)</th>\n",
       "      <th>Activity</th>\n",
       "    </tr>\n",
       "  </thead>\n",
       "  <tbody>\n",
       "    <tr>\n",
       "      <th>250</th>\n",
       "      <td>2022-03-02</td>\n",
       "      <td>2022-03-02 08:18:58.877000+00:00</td>\n",
       "      <td>2022-03-02 08:26:04.015000+00:00</td>\n",
       "      <td>40.4081987</td>\n",
       "      <td>-3.7046992</td>\n",
       "      <td>40.4119964</td>\n",
       "      <td>-3.7053131</td>\n",
       "      <td>443</td>\n",
       "      <td>7</td>\n",
       "    </tr>\n",
       "  </tbody>\n",
       "</table>\n",
       "</div>"
      ],
      "text/plain": [
       "           Date                  Start Timestamp  \\\n",
       "250  2022-03-02 2022-03-02 08:18:58.877000+00:00   \n",
       "\n",
       "                       End Timestamp Start Latitude Start Longitude  \\\n",
       "250 2022-03-02 08:26:04.015000+00:00     40.4081987      -3.7046992   \n",
       "\n",
       "    End Latitude End Longitude  Distance (m)  Activity  \n",
       "250   40.4119964    -3.7053131           443         7  "
      ]
     },
     "execution_count": 98,
     "metadata": {},
     "output_type": "execute_result"
    }
   ],
   "source": [
    "combined_df = pd.concat([study_abroad_df, summer_df])\n",
    "\n",
    "num_act = utils.encode_column(combined_df, \"Activity\")\n",
    "# replace old col in combined df\n",
    "combined_df[\"Activity\"] = num_act\n",
    "combined_df.sample()"
   ]
  },
  {
   "attachments": {},
   "cell_type": "markdown",
   "metadata": {},
   "source": [
    "Looks like the Activity column was encoded properly! Here is a key to the encoded data:\n",
    "> Flying = 0, In Bus = 1, In Ferry = 2, In Passenger Vehicle = 3, In Subway = 4, In Train = 5, Unknown = 6, Walking = 7  \n",
    "\n",
    "Now we can split this dataframe in two once again."
   ]
  },
  {
   "cell_type": "code",
   "execution_count": 99,
   "metadata": {},
   "outputs": [],
   "source": [
    "study_abroad_lst, summer_lst = utils.split_col(combined_df, \"Activity\", 642)\n",
    "\n",
    "#insert cols into both dfs \n",
    "study_abroad_df.insert(loc=9, value=study_abroad_lst, column=\"Activity Code\")\n",
    "summer_df.insert(loc=9, value=summer_lst, column=\"Activity Code\")"
   ]
  },
  {
   "cell_type": "code",
   "execution_count": 100,
   "metadata": {},
   "outputs": [
    {
     "data": {
      "text/html": [
       "<div>\n",
       "<style scoped>\n",
       "    .dataframe tbody tr th:only-of-type {\n",
       "        vertical-align: middle;\n",
       "    }\n",
       "\n",
       "    .dataframe tbody tr th {\n",
       "        vertical-align: top;\n",
       "    }\n",
       "\n",
       "    .dataframe thead th {\n",
       "        text-align: right;\n",
       "    }\n",
       "</style>\n",
       "<table border=\"1\" class=\"dataframe\">\n",
       "  <thead>\n",
       "    <tr style=\"text-align: right;\">\n",
       "      <th></th>\n",
       "      <th>Date</th>\n",
       "      <th>Start Timestamp</th>\n",
       "      <th>End Timestamp</th>\n",
       "      <th>Start Latitude</th>\n",
       "      <th>Start Longitude</th>\n",
       "      <th>End Latitude</th>\n",
       "      <th>End Longitude</th>\n",
       "      <th>Distance (m)</th>\n",
       "      <th>Activity</th>\n",
       "      <th>Activity Code</th>\n",
       "    </tr>\n",
       "  </thead>\n",
       "  <tbody>\n",
       "    <tr>\n",
       "      <th>33</th>\n",
       "      <td>2022-06-01</td>\n",
       "      <td>2022-06-01 20:37:58.246000+00:00</td>\n",
       "      <td>2022-06-01 21:22:16.114000+00:00</td>\n",
       "      <td>47.8566439</td>\n",
       "      <td>-1.172768482</td>\n",
       "      <td>47.6747079</td>\n",
       "      <td>-1.173907583</td>\n",
       "      <td>25917</td>\n",
       "      <td>IN_PASSENGER_VEHICLE</td>\n",
       "      <td>3</td>\n",
       "    </tr>\n",
       "  </tbody>\n",
       "</table>\n",
       "</div>"
      ],
      "text/plain": [
       "          Date                  Start Timestamp  \\\n",
       "33  2022-06-01 2022-06-01 20:37:58.246000+00:00   \n",
       "\n",
       "                      End Timestamp Start Latitude Start Longitude  \\\n",
       "33 2022-06-01 21:22:16.114000+00:00     47.8566439    -1.172768482   \n",
       "\n",
       "   End Latitude End Longitude  Distance (m)              Activity  \\\n",
       "33   47.6747079  -1.173907583         25917  IN_PASSENGER_VEHICLE   \n",
       "\n",
       "    Activity Code  \n",
       "33              3  "
      ]
     },
     "execution_count": 100,
     "metadata": {},
     "output_type": "execute_result"
    }
   ],
   "source": [
    "summer_df.sample()"
   ]
  },
  {
   "attachments": {},
   "cell_type": "markdown",
   "metadata": {},
   "source": [
    "The activity code column has been properly inserted."
   ]
  },
  {
   "attachments": {},
   "cell_type": "markdown",
   "metadata": {},
   "source": [
    "* Add Day of Week Col"
   ]
  },
  {
   "cell_type": "code",
   "execution_count": 101,
   "metadata": {},
   "outputs": [
    {
     "data": {
      "text/html": [
       "<div>\n",
       "<style scoped>\n",
       "    .dataframe tbody tr th:only-of-type {\n",
       "        vertical-align: middle;\n",
       "    }\n",
       "\n",
       "    .dataframe tbody tr th {\n",
       "        vertical-align: top;\n",
       "    }\n",
       "\n",
       "    .dataframe thead th {\n",
       "        text-align: right;\n",
       "    }\n",
       "</style>\n",
       "<table border=\"1\" class=\"dataframe\">\n",
       "  <thead>\n",
       "    <tr style=\"text-align: right;\">\n",
       "      <th></th>\n",
       "      <th>Date</th>\n",
       "      <th>Day of Week</th>\n",
       "      <th>Start Timestamp</th>\n",
       "      <th>End Timestamp</th>\n",
       "      <th>Start Latitude</th>\n",
       "      <th>Start Longitude</th>\n",
       "      <th>End Latitude</th>\n",
       "      <th>End Longitude</th>\n",
       "      <th>Distance (m)</th>\n",
       "      <th>Activity</th>\n",
       "      <th>Activity Code</th>\n",
       "    </tr>\n",
       "  </thead>\n",
       "  <tbody>\n",
       "    <tr>\n",
       "      <th>396</th>\n",
       "      <td>2022-03-22</td>\n",
       "      <td>Tuesday</td>\n",
       "      <td>2022-03-22 13:41:30.157000+00:00</td>\n",
       "      <td>2022-03-22 13:53:41.162000+00:00</td>\n",
       "      <td>40.4434170</td>\n",
       "      <td>-3.6179347</td>\n",
       "      <td>40.4375669</td>\n",
       "      <td>-3.6199636</td>\n",
       "      <td>841</td>\n",
       "      <td>WALKING</td>\n",
       "      <td>7</td>\n",
       "    </tr>\n",
       "  </tbody>\n",
       "</table>\n",
       "</div>"
      ],
      "text/plain": [
       "           Date Day of Week                  Start Timestamp  \\\n",
       "396  2022-03-22     Tuesday 2022-03-22 13:41:30.157000+00:00   \n",
       "\n",
       "                       End Timestamp Start Latitude Start Longitude  \\\n",
       "396 2022-03-22 13:53:41.162000+00:00     40.4434170      -3.6179347   \n",
       "\n",
       "    End Latitude End Longitude  Distance (m) Activity  Activity Code  \n",
       "396   40.4375669    -3.6199636           841  WALKING              7  "
      ]
     },
     "execution_count": 101,
     "metadata": {},
     "output_type": "execute_result"
    }
   ],
   "source": [
    "days = pd.read_csv(\"days_week.csv\")\n",
    "study_abroad_df.insert(value=days[\"Day\"], column=\"Day of Week\", loc=1)\n",
    "study_abroad_df.sample()"
   ]
  },
  {
   "attachments": {},
   "cell_type": "markdown",
   "metadata": {},
   "source": [
    "### c. Join on Daily Weather Data\n",
    "* Now that the dataset has been cleaned, I can continue to the next step, which is joining my study abroad dataframe with weather data using the Meteostat API. I am only joining with the study abroad data in this case because my hypotheses involving weather only apply to this dataset and not the one from Spokane. \n",
    "\n",
    "> Note: This step was a bit of a pain for me. At first I tried to use each instance in the the \"Start Latitude\" and \"Start Longitude\" columns to generate a list of weather station IDs that were gathered using the Find Station functionality of the Meteostat API. This gave me a lot of trouble because I realized that the Lat/Long columns were not formatted correctly (they did mnot have decimals). Because of this I went back to the cleaning stage and inserted a section where I added decimal points to all of the Lat/Long data. This ended up generating results, but there were still some Lat/Long values that did not generate a station ID and this was breaking my code. Evenually I figured out how to get np.NaN values inserted in these cases. Finally, the code was not crashing, and I got it to run ok. However, the code was taking a _lot_ of time to run, and also used up all of the requests available to me at for free. Thus, I had to rethink how I was going to do this. \n",
    "\n",
    "* Instead of getting a seperate station ID for every instance of my dataframe, I googled the latitude and longitude of Madrid and used the MeteoStat API user interface (limiting the number of stations to 1) to get one station for all of my data. This is not the most accurate way to represent weather data during my time abroad, because I did not spend all of my time in Madrid. However, it was better than getting individual stations for all of my instances. \n",
    "\n",
    "* After getting the ID of the weather station, I used several utility functions in a python file called `weather_data.py` in order to request daily weather data from the API. I then sent the daily weather data to a csv file called `daily_weather_madrid.csv`. This is convenient because it keeps my API key outside of this project and also makes it so that every time I run this file I don't have to request the same data again. \n",
    "\n",
    "* Grabbing the data will be easy, I can just read from a csv file into a new dataframe."
   ]
  },
  {
   "cell_type": "code",
   "execution_count": 102,
   "metadata": {},
   "outputs": [
    {
     "data": {
      "text/html": [
       "<div>\n",
       "<style scoped>\n",
       "    .dataframe tbody tr th:only-of-type {\n",
       "        vertical-align: middle;\n",
       "    }\n",
       "\n",
       "    .dataframe tbody tr th {\n",
       "        vertical-align: top;\n",
       "    }\n",
       "\n",
       "    .dataframe thead th {\n",
       "        text-align: right;\n",
       "    }\n",
       "</style>\n",
       "<table border=\"1\" class=\"dataframe\">\n",
       "  <thead>\n",
       "    <tr style=\"text-align: right;\">\n",
       "      <th></th>\n",
       "      <th>Unnamed: 0</th>\n",
       "      <th>Date</th>\n",
       "      <th>Avg Temp</th>\n",
       "      <th>Min Temp</th>\n",
       "      <th>Max Temp</th>\n",
       "      <th>Precip.</th>\n",
       "      <th>Snow</th>\n",
       "      <th>Wind Dir.</th>\n",
       "      <th>Wind Speed</th>\n",
       "      <th>Peak Wind Gust</th>\n",
       "      <th>Pressure</th>\n",
       "      <th>Total Sun</th>\n",
       "    </tr>\n",
       "  </thead>\n",
       "  <tbody>\n",
       "    <tr>\n",
       "      <th>81</th>\n",
       "      <td>81</td>\n",
       "      <td>2022-04-12</td>\n",
       "      <td>52.5</td>\n",
       "      <td>47.3</td>\n",
       "      <td>60.3</td>\n",
       "      <td>0.161</td>\n",
       "      <td>NaN</td>\n",
       "      <td>225.0</td>\n",
       "      <td>6.5</td>\n",
       "      <td>NaN</td>\n",
       "      <td>1009.3</td>\n",
       "      <td>NaN</td>\n",
       "    </tr>\n",
       "  </tbody>\n",
       "</table>\n",
       "</div>"
      ],
      "text/plain": [
       "    Unnamed: 0        Date  Avg Temp  Min Temp  Max Temp  Precip.  Snow  \\\n",
       "81          81  2022-04-12      52.5      47.3      60.3    0.161   NaN   \n",
       "\n",
       "    Wind Dir.  Wind Speed  Peak Wind Gust  Pressure  Total Sun  \n",
       "81      225.0         6.5             NaN    1009.3        NaN  "
      ]
     },
     "execution_count": 102,
     "metadata": {},
     "output_type": "execute_result"
    }
   ],
   "source": [
    "weather_df = pd.read_csv(\"daily_weather_madrid.csv\")\n",
    "weather_df.sample()"
   ]
  },
  {
   "attachments": {},
   "cell_type": "markdown",
   "metadata": {},
   "source": [
    "* Now that I have succesfully gotten the data into a dataframe, it would be good to drop the columns that are full of missing values (Snow, Peak Wind Gust, and Total Sun). I will use a threshold of 50, meaning that columns with over 50 missing instances will be dropped. I will also drop the \"Unnamed :0\" column as it seems to just be an index column."
   ]
  },
  {
   "cell_type": "code",
   "execution_count": 103,
   "metadata": {},
   "outputs": [
    {
     "data": {
      "text/html": [
       "<div>\n",
       "<style scoped>\n",
       "    .dataframe tbody tr th:only-of-type {\n",
       "        vertical-align: middle;\n",
       "    }\n",
       "\n",
       "    .dataframe tbody tr th {\n",
       "        vertical-align: top;\n",
       "    }\n",
       "\n",
       "    .dataframe thead th {\n",
       "        text-align: right;\n",
       "    }\n",
       "</style>\n",
       "<table border=\"1\" class=\"dataframe\">\n",
       "  <thead>\n",
       "    <tr style=\"text-align: right;\">\n",
       "      <th></th>\n",
       "      <th>Date</th>\n",
       "      <th>Avg Temp</th>\n",
       "      <th>Min Temp</th>\n",
       "      <th>Max Temp</th>\n",
       "      <th>Precip.</th>\n",
       "      <th>Wind Dir.</th>\n",
       "      <th>Wind Speed</th>\n",
       "      <th>Pressure</th>\n",
       "    </tr>\n",
       "  </thead>\n",
       "  <tbody>\n",
       "    <tr>\n",
       "      <th>35</th>\n",
       "      <td>2022-02-25</td>\n",
       "      <td>48.0</td>\n",
       "      <td>43.9</td>\n",
       "      <td>51.8</td>\n",
       "      <td>0.154</td>\n",
       "      <td>44.0</td>\n",
       "      <td>10.3</td>\n",
       "      <td>1024.7</td>\n",
       "    </tr>\n",
       "  </tbody>\n",
       "</table>\n",
       "</div>"
      ],
      "text/plain": [
       "          Date  Avg Temp  Min Temp  Max Temp  Precip.  Wind Dir.  Wind Speed  \\\n",
       "35  2022-02-25      48.0      43.9      51.8    0.154       44.0        10.3   \n",
       "\n",
       "    Pressure  \n",
       "35    1024.7  "
      ]
     },
     "execution_count": 103,
     "metadata": {},
     "output_type": "execute_result"
    }
   ],
   "source": [
    "weather_df.dropna(axis=1, inplace=True, thresh=50)\n",
    "weather_df.drop(\"Unnamed: 0\", axis=1, inplace=True)\n",
    "weather_df.sample()"
   ]
  },
  {
   "attachments": {},
   "cell_type": "markdown",
   "metadata": {},
   "source": [
    "* That is looking a lot better. Now we can go ahead and do an inner join on this dataframe with the study abroad location dataframe. "
   ]
  },
  {
   "cell_type": "code",
   "execution_count": 104,
   "metadata": {},
   "outputs": [
    {
     "data": {
      "text/html": [
       "<div>\n",
       "<style scoped>\n",
       "    .dataframe tbody tr th:only-of-type {\n",
       "        vertical-align: middle;\n",
       "    }\n",
       "\n",
       "    .dataframe tbody tr th {\n",
       "        vertical-align: top;\n",
       "    }\n",
       "\n",
       "    .dataframe thead th {\n",
       "        text-align: right;\n",
       "    }\n",
       "</style>\n",
       "<table border=\"1\" class=\"dataframe\">\n",
       "  <thead>\n",
       "    <tr style=\"text-align: right;\">\n",
       "      <th></th>\n",
       "      <th>Date</th>\n",
       "      <th>Day of Week</th>\n",
       "      <th>Start Timestamp</th>\n",
       "      <th>End Timestamp</th>\n",
       "      <th>Start Latitude</th>\n",
       "      <th>Start Longitude</th>\n",
       "      <th>End Latitude</th>\n",
       "      <th>End Longitude</th>\n",
       "      <th>Distance (m)</th>\n",
       "      <th>Activity</th>\n",
       "      <th>Activity Code</th>\n",
       "      <th>Avg Temp</th>\n",
       "      <th>Min Temp</th>\n",
       "      <th>Max Temp</th>\n",
       "      <th>Precip.</th>\n",
       "      <th>Wind Dir.</th>\n",
       "      <th>Wind Speed</th>\n",
       "      <th>Pressure</th>\n",
       "    </tr>\n",
       "  </thead>\n",
       "  <tbody>\n",
       "    <tr>\n",
       "      <th>137</th>\n",
       "      <td>2022-02-12</td>\n",
       "      <td>Saturday</td>\n",
       "      <td>2022-02-12 10:34:43.019000+00:00</td>\n",
       "      <td>2022-02-12 11:12:29.997000+00:00</td>\n",
       "      <td>40.4951528</td>\n",
       "      <td>-3.7257016</td>\n",
       "      <td>40.4938047</td>\n",
       "      <td>-3.7319258</td>\n",
       "      <td>930</td>\n",
       "      <td>WALKING</td>\n",
       "      <td>7</td>\n",
       "      <td>50.9</td>\n",
       "      <td>44.4</td>\n",
       "      <td>58.6</td>\n",
       "      <td>0.0</td>\n",
       "      <td>92.0</td>\n",
       "      <td>4.3</td>\n",
       "      <td>1024.0</td>\n",
       "    </tr>\n",
       "  </tbody>\n",
       "</table>\n",
       "</div>"
      ],
      "text/plain": [
       "           Date Day of Week                  Start Timestamp  \\\n",
       "137  2022-02-12    Saturday 2022-02-12 10:34:43.019000+00:00   \n",
       "\n",
       "                       End Timestamp Start Latitude Start Longitude  \\\n",
       "137 2022-02-12 11:12:29.997000+00:00     40.4951528      -3.7257016   \n",
       "\n",
       "    End Latitude End Longitude  Distance (m) Activity  Activity Code  \\\n",
       "137   40.4938047    -3.7319258           930  WALKING              7   \n",
       "\n",
       "     Avg Temp  Min Temp  Max Temp  Precip.  Wind Dir.  Wind Speed  Pressure  \n",
       "137      50.9      44.4      58.6      0.0       92.0         4.3    1024.0  "
      ]
     },
     "execution_count": 104,
     "metadata": {},
     "output_type": "execute_result"
    }
   ],
   "source": [
    "merged_df = study_abroad_df.merge(weather_df, how='inner', on=\"Date\")\n",
    "merged_df.sample()"
   ]
  },
  {
   "attachments": {},
   "cell_type": "markdown",
   "metadata": {},
   "source": [
    "### e. Aggregates & Data Visualizations  \n",
    "The next step in our Exploratory Data Analysis is to perform various aggregate functions on the data, which will give hints as to if my hypotheses were correct or not."
   ]
  },
  {
   "attachments": {},
   "cell_type": "markdown",
   "metadata": {},
   "source": [
    "**Total Time per Activity Segment (Madrid vs Spokane)**\n",
    "* To test whether total time taken on activity segments per day was was greater in Madrid than it was for Spokane, I will first make a column of total elapsed time in minutes for each activity segment."
   ]
  },
  {
   "cell_type": "code",
   "execution_count": 105,
   "metadata": {},
   "outputs": [
    {
     "data": {
      "text/html": [
       "<div>\n",
       "<style scoped>\n",
       "    .dataframe tbody tr th:only-of-type {\n",
       "        vertical-align: middle;\n",
       "    }\n",
       "\n",
       "    .dataframe tbody tr th {\n",
       "        vertical-align: top;\n",
       "    }\n",
       "\n",
       "    .dataframe thead th {\n",
       "        text-align: right;\n",
       "    }\n",
       "</style>\n",
       "<table border=\"1\" class=\"dataframe\">\n",
       "  <thead>\n",
       "    <tr style=\"text-align: right;\">\n",
       "      <th></th>\n",
       "      <th>Date</th>\n",
       "      <th>Day of Week</th>\n",
       "      <th>Time Elapsed (min)</th>\n",
       "      <th>Start Timestamp</th>\n",
       "      <th>End Timestamp</th>\n",
       "      <th>Start Latitude</th>\n",
       "      <th>Start Longitude</th>\n",
       "      <th>End Latitude</th>\n",
       "      <th>End Longitude</th>\n",
       "      <th>Distance (m)</th>\n",
       "      <th>Activity</th>\n",
       "      <th>Activity Code</th>\n",
       "    </tr>\n",
       "  </thead>\n",
       "  <tbody>\n",
       "    <tr>\n",
       "      <th>341</th>\n",
       "      <td>2022-03-12</td>\n",
       "      <td>Saturday</td>\n",
       "      <td>29.075167</td>\n",
       "      <td>2022-03-12 11:22:51.727000+00:00</td>\n",
       "      <td>2022-03-12 11:51:56.237000+00:00</td>\n",
       "      <td>41.6704788</td>\n",
       "      <td>-8.620058</td>\n",
       "      <td>41.6599572</td>\n",
       "      <td>-8.726851</td>\n",
       "      <td>2110</td>\n",
       "      <td>WALKING</td>\n",
       "      <td>7</td>\n",
       "    </tr>\n",
       "  </tbody>\n",
       "</table>\n",
       "</div>"
      ],
      "text/plain": [
       "           Date Day of Week  Time Elapsed (min)  \\\n",
       "341  2022-03-12    Saturday           29.075167   \n",
       "\n",
       "                     Start Timestamp                    End Timestamp  \\\n",
       "341 2022-03-12 11:22:51.727000+00:00 2022-03-12 11:51:56.237000+00:00   \n",
       "\n",
       "    Start Latitude Start Longitude End Latitude End Longitude  Distance (m)  \\\n",
       "341     41.6704788       -8.620058   41.6599572     -8.726851          2110   \n",
       "\n",
       "    Activity  Activity Code  \n",
       "341  WALKING              7  "
      ]
     },
     "execution_count": 105,
     "metadata": {},
     "output_type": "execute_result"
    }
   ],
   "source": [
    "dif_ser_min = utils.get_time_elapsed(study_abroad_df)\n",
    "\n",
    "# add col to study abroad df\n",
    "study_abroad_df.insert(column=\"Time Elapsed (min)\", value=dif_ser_min, loc=2)\n",
    "study_abroad_df.sample()"
   ]
  },
  {
   "cell_type": "code",
   "execution_count": 106,
   "metadata": {},
   "outputs": [],
   "source": [
    "dif_ser_min = utils.get_time_elapsed(summer_df)\n",
    "# add col\n",
    "summer_df.insert(column=\"Time Elapsed (min)\", value=dif_ser_min, loc=2)"
   ]
  },
  {
   "attachments": {},
   "cell_type": "markdown",
   "metadata": {},
   "source": [
    "* Now that the elapsed time per activity segment has been inserted, lets get a visualization of the data. ."
   ]
  },
  {
   "cell_type": "code",
   "execution_count": 107,
   "metadata": {},
   "outputs": [
    {
     "data": {
      "image/png": "[encoded data removed]",
      "text/plain": [
       "<Figure size 640x480 with 1 Axes>"
      ]
     },
     "metadata": {},
     "output_type": "display_data"
    }
   ],
   "source": [
    "grouped_by_date = study_abroad_df.groupby(\"Date\")\n",
    "\n",
    "time_per_day_madrid = grouped_by_date[\"Time Elapsed (min)\"].sum()\n",
    "plt.figure()\n",
    "plt.title(\"Frequency of Daily Time (min) Spent on Activities in Madrid\")\n",
    "plt.xlabel(\"Time min\")\n",
    "plt.ylabel(\"Freq\")\n",
    "plt.hist(time_per_day_madrid, bins=50, color=\"orange\")\n",
    "plt.show()"
   ]
  },
  {
   "cell_type": "code",
   "execution_count": 108,
   "metadata": {},
   "outputs": [
    {
     "data": {
      "image/png": "[encoded data removed]",
      "text/plain": [
       "<Figure size 640x480 with 1 Axes>"
      ]
     },
     "metadata": {},
     "output_type": "display_data"
    }
   ],
   "source": [
    "grouped_by_date = summer_df.groupby(\"Date\")\n",
    "time_per_day_spokane = grouped_by_date[\"Time Elapsed (min)\"].sum()\n",
    "\n",
    "plt.figure()\n",
    "plt.title(\"Frequency of Daily Time (min) Spent on Activities in Spokane\")\n",
    "plt.ylabel(\"Frequency\")\n",
    "plt.xlabel(\"Time (min)\")\n",
    "plt.hist(time_per_day_spokane, bins=50)\n",
    "plt.show()"
   ]
  },
  {
   "attachments": {},
   "cell_type": "markdown",
   "metadata": {},
   "source": [
    "The time data both seems to be distributed similarly (skewed right), although the max for Spokane is actually higher (around 12 minutes) than for Madrid (around 8 minutes). My hypothesis in this case is probably wrong, so I will instead hypothesize that the Daily Time Spent on activity segments (on average) was higher in Spokane than in Madrid."
   ]
  },
  {
   "attachments": {},
   "cell_type": "markdown",
   "metadata": {},
   "source": [
    "**Average Temp vs Daily Activity Time (Madrid)** \n",
    "* Next I will plot average temperature vs daily time spent on activities in Madrid."
   ]
  },
  {
   "cell_type": "code",
   "execution_count": 109,
   "metadata": {},
   "outputs": [
    {
     "data": {
      "image/png": "[encoded data removed]",
      "text/plain": [
       "<Figure size 640x480 with 1 Axes>"
      ]
     },
     "metadata": {},
     "output_type": "display_data"
    }
   ],
   "source": [
    "activity_time_by_date = study_abroad_df.groupby(\"Date\")[\"Time Elapsed (min)\"].sum()\n",
    "avg_temp_by_date = merged_df.groupby(\"Date\")[\"Avg Temp\"].mean()\n",
    "\n",
    "utils.scatter_plot(avg_temp_by_date, activity_time_by_date, 'Average Temp (F) vs Daily Activity Time (min)', 'Avg Temp (F)', 'Daily Total Activity Time (min)')"
   ]
  },
  {
   "attachments": {},
   "cell_type": "markdown",
   "metadata": {},
   "source": [
    "This chart seems to back up my hypothesis that average temperature did not really affect time I spent on activities, since I know that I tried to go out and do things no matter the weather. Additionally, the weather was pretty moderate when I was there (as seen in the weather chart, it ranged from the 40s to the 60s)\n"
   ]
  },
  {
   "attachments": {},
   "cell_type": "markdown",
   "metadata": {},
   "source": [
    "**Distance Travelled k(m) Weekend vs Weekday**  \n",
    "* Lastly, I will be plotting distance travelled on weekends vs weekdays. My hypothesis is that average distance is higher on weekends. First, I need to make a column that labels each instance based on if it falls on a weekend or weekday."
   ]
  },
  {
   "cell_type": "code",
   "execution_count": 110,
   "metadata": {},
   "outputs": [],
   "source": [
    "weekend_lst = utils.make_weekend_col(study_abroad_df)\n",
    "study_abroad_df.insert(value=weekend_lst, column=\"Weekend\", loc=2)\n",
    "grouped_by_weekend = study_abroad_df.groupby(\"Weekend\")\n",
    "weekend_distance = grouped_by_weekend.get_group(True)[\"Distance (m)\"]/1000\n",
    "weekday_distance = grouped_by_weekend.get_group(False)[\"Distance (m)\"]/1000"
   ]
  },
  {
   "cell_type": "code",
   "execution_count": 111,
   "metadata": {},
   "outputs": [
    {
     "data": {
      "image/png": "[encoded data removed]",
      "text/plain": [
       "<Figure size 640x480 with 1 Axes>"
      ]
     },
     "metadata": {},
     "output_type": "display_data"
    }
   ],
   "source": [
    "plt.figure()\n",
    "\n",
    "plt.title(\"Distribution of Distance Travelled on Weekdays (km)\")\n",
    "plt.ylabel(\"Distance (km)\")\n",
    "plt.xlabel(\"Days\")\n",
    "labels = [\"Weekdays\", \"Weekends\"]\n",
    "plt.boxplot([weekday_distance, weekend_distance], showfliers=False)\n",
    "xticks = [1, 2]\n",
    "plt.xticks(xticks, labels)\n",
    "plt.show()"
   ]
  },
  {
   "attachments": {},
   "cell_type": "markdown",
   "metadata": {},
   "source": [
    "Like I hypothesized, mean distance on weekends turned out to be greater than on weekdays. The boxplots are not super visible, buut the main thing I was interested in seeing was the outliers. There clearly are outliers in the weekend data that skew the mean a lot. This is likely from plane and train rides."
   ]
  },
  {
   "attachments": {},
   "cell_type": "markdown",
   "metadata": {},
   "source": [
    "### F. Hypothesis Testing  \n",
    "#### Test 1: Two Sample One Tailed Independent T Test of Mean Distance of Activity Segments Weekend vs Weekday (Madrid)  \n",
    "* using my Google Maps dataset, I am going to see if the mean distance of my activity segments in Madrid was greater on Weekends than on Weekdays,.\n",
    "* my significance level $\\alpha$ will be 0.05.\n",
    "\n",
    "* Here are the formulas I will be using (independent, one tailed):\n",
    "###### $$t = \\frac{\\overline{X}_{1} - \\overline{X}_{2}}{\\sqrt{S_{p}{2}(\\frac{1}{n_{1}} + \\frac{1}{n_{2}})}}$$\n",
    "\n",
    "###### $$S_{p}^{2} = \\frac{(n_{1} - 1)s_{1}^{2} + (n_{2} - 1)s_{2}^{2}}{n_{1} + n_{2} - 2}$$  \n",
    "df = n1 + n2 - 2  \n",
    "* Lets find the degrees of freedom."
   ]
  },
  {
   "cell_type": "code",
   "execution_count": 112,
   "metadata": {},
   "outputs": [
    {
     "name": "stdout",
     "output_type": "stream",
     "text": [
      "365\n",
      "365\n",
      "Degrees of freedom is 640\n"
     ]
    }
   ],
   "source": [
    "# n for both samples:\n",
    "wd_n = weekday_distance.size\n",
    "print(wd_n)\n",
    "\n",
    "we_n = weekend_distance.size\n",
    "print(wd_n)\n",
    "df = wd_n+ we_n - 2\n",
    "print(\"Degrees of freedom is\", df)"
   ]
  },
  {
   "attachments": {},
   "cell_type": "markdown",
   "metadata": {},
   "source": [
    "**Step 1: Identify $H_{0}$ and $H_1$**  \n",
    "* $H_{0}$ : $\\mu_{Weekend} \\leq \\mu_{Weekday}$   \n",
    "* $H_1$  : $\\mu_{Weekend} > \\mu_{Weekday}$"
   ]
  },
  {
   "cell_type": "markdown",
   "metadata": {},
   "source": [
    "**Step 2: Select Level of Significance**  \n",
    "* $\\alpha$ = 0.05, meaning there is a 5% chance of making an error when rejecting the null hypothesis"
   ]
  },
  {
   "cell_type": "code",
   "execution_count": 113,
   "metadata": {},
   "outputs": [],
   "source": [
    "alpha = 0.05"
   ]
  },
  {
   "attachments": {},
   "cell_type": "markdown",
   "metadata": {},
   "source": [
    "**Step 3: Select appropriate test statistic**  \n",
    "* for a one tailed, two sample independent t-test with $\\alpha$ value 0.05 and df = 640,\n",
    "using a t-chart, t is about 1.6477."
   ]
  },
  {
   "cell_type": "code",
   "execution_count": 114,
   "metadata": {},
   "outputs": [],
   "source": [
    "t_crit = 1.6477"
   ]
  },
  {
   "attachments": {},
   "cell_type": "markdown",
   "metadata": {},
   "source": [
    "**Step 4: formulate the _decision rule_**\n",
    "\n",
    "* If $t_{computed} \\leq$ 1.6477, do not reject $H_{0}$-->The population mean distance of activity segments in Spain on weekends is less than or equal to the mean distance of activity segments on weekdays.  \n",
    "* If $t_{computed} >$ 1.6477, reject $H_{0}$-->The population mean distance of activity segments in Spain on weekends is greater than the mean distance of activity segments on weekdays."
   ]
  },
  {
   "cell_type": "markdown",
   "metadata": {},
   "source": [
    "**Step 5: Make a Decision**  \n",
    "* find $t_{computed}$"
   ]
  },
  {
   "cell_type": "markdown",
   "metadata": {},
   "source": [
    "* apply decision rule"
   ]
  },
  {
   "cell_type": "code",
   "execution_count": 115,
   "metadata": {},
   "outputs": [
    {
     "name": "stdout",
     "output_type": "stream",
     "text": [
      "T is 3.5671 , and p-value is 0.0002\n",
      "Reject H0. The population mean distance of activity segments in Spain on weekends is greater than the mean distance of activity segments on weekdays.\n"
     ]
    }
   ],
   "source": [
    "from scipy import stats\n",
    "\n",
    "# get t and pvalue\n",
    "t_comp, p_val = stats.ttest_ind(weekend_distance, weekday_distance)\n",
    "p_val/=2\n",
    "print(\"T is\", f\"{t_comp:.4f}\", \", and p-value is\", f\"{p_val:.4f}\")\n",
    "\n",
    "# apply decision rule by testing pvalue\n",
    "if(p_val < alpha):\n",
    "     print(\"Reject H0. The population mean distance of activity segments in Spain on weekends is greater than the mean distance of activity segments on weekdays.\")\n",
    "else:\n",
    "    print(\"Do not reject H0. The population mean distance of activity segments in Spain on weekends is less than or equal to the mean distance of activity segments on weekdays.  \")"
   ]
  },
  {
   "attachments": {},
   "cell_type": "markdown",
   "metadata": {},
   "source": [
    "It looks like I was right and the null hypothesis was rejected. I think the main reason is that I was much more likely to travel via train or plane during weekends than on weekdays. For future research it may be good to just test mean distance spent on walking and see if there is a significant difference there."
   ]
  },
  {
   "attachments": {},
   "cell_type": "markdown",
   "metadata": {},
   "source": [
    "#### Test 2: Two Sample One-tailed Independent T Test of Daily Time Spent on Activities (Madrid vs Spokane)\n",
    "* Next I will be testing the mean total daily time spent on activities segments in Madrid vs Spokane. Specifically I am trying to find if mean daily time spent on activities is higher in Spokane than it is in Madrid. I changed my hypothesis from what it was originally because when I graphed the data it seemed like Spokane had higher average total time."
   ]
  },
  {
   "attachments": {},
   "cell_type": "markdown",
   "metadata": {},
   "source": [
    "* Here are the formulas I will be using (independent, one tailed):\n",
    "###### $$t = \\frac{\\overline{X}_{1} - \\overline{X}_{2}}{\\sqrt{S_{p}{2}(\\frac{1}{n_{1}} + \\frac{1}{n_{2}})}}$$\n",
    "\n",
    "###### $$S_{p}^{2} = \\frac{(n_{1} - 1)s_{1}^{2} + (n_{2} - 1)s_{2}^{2}}{n_{1} + n_{2} - 2}$$  \n",
    "df = n1 + n2 - 2  \n",
    "* Lets find the degrees of freedom."
   ]
  },
  {
   "cell_type": "code",
   "execution_count": 116,
   "metadata": {},
   "outputs": [
    {
     "name": "stdout",
     "output_type": "stream",
     "text": [
      "Degrees of freedom is 186\n"
     ]
    }
   ],
   "source": [
    "m_n = time_per_day_madrid.size\n",
    "s_n =  time_per_day_spokane.size \n",
    "\n",
    "df = m_n + s_n - 2\n",
    "\n",
    "print(\"Degrees of freedom is\", df)"
   ]
  },
  {
   "attachments": {},
   "cell_type": "markdown",
   "metadata": {},
   "source": [
    "**Step 1: Identify $H_{0}$ and $H_1$**  \n",
    "* $H_{0}$ : $\\mu_{TimeOnActivitiesSpokane} \\leq \\mu_{TimeOnActivitiesMadrid}$   \n",
    "* $H_1$  : $\\mu_{TimeOnActivtiesSpokane} > \\mu_{TimeOnActivitiesMadrid}$"
   ]
  },
  {
   "attachments": {},
   "cell_type": "markdown",
   "metadata": {},
   "source": [
    "**Step 2: Select Level of Significance**  \n",
    "* $\\alpha$ = 0.05, meaning there is a 5% chance of making an error when rejecting the null hypothesis"
   ]
  },
  {
   "cell_type": "code",
   "execution_count": 117,
   "metadata": {},
   "outputs": [],
   "source": [
    "alpha = 0.05"
   ]
  },
  {
   "attachments": {},
   "cell_type": "markdown",
   "metadata": {},
   "source": [
    "**Step 3: Select appropriate test statistic**  \n",
    "* for a one tailed, two sample independent t-test with $\\alpha$ value 0.05 and df = 186,\n",
    "using a t-chart, t is about 1.6536."
   ]
  },
  {
   "attachments": {},
   "cell_type": "markdown",
   "metadata": {},
   "source": [
    "**Step 4: formulate the _decision rule_**\n",
    "\n",
    "* If $t_{computed} \\leq$ 1.6536, do not reject $H_{0}$-->The population mean daily time spent on activities in Spokane is less than or equal to the population mean daily time spent on activities in Madrid.  \n",
    "* If $t_{computed} >$ 1.6536, reject $H_{0}$-->The population mean daily time spent on activities in Spokane is greater than the population mean daily time spent on activities in Madrid."
   ]
  },
  {
   "attachments": {},
   "cell_type": "markdown",
   "metadata": {},
   "source": [
    "**Step 5: Make a Decision**  \n",
    "* find $t_{computed}$\n",
    "* apply decision rule"
   ]
  },
  {
   "cell_type": "code",
   "execution_count": 118,
   "metadata": {},
   "outputs": [
    {
     "name": "stdout",
     "output_type": "stream",
     "text": [
      "T is 1.7707 , and p-value is 0.0391\n",
      "Reject H0. The population mean daily time spent on activities in Spokane is greater than the population mean daily time spent on activities in Madrid.\n"
     ]
    }
   ],
   "source": [
    "# get t and pvalue\n",
    "t_comp, p_val = stats.ttest_ind(time_per_day_madrid, time_per_day_spokane)\n",
    "p_val/=2\n",
    "print(\"T is\", f\"{t_comp:.4f}\", \", and p-value is\", f\"{p_val:.4f}\")\n",
    "\n",
    "# apply decision rule by testing pvalue\n",
    "if(p_val < alpha):\n",
    "     print(\"Reject H0. The population mean daily time spent on activities in Spokane is greater than the population mean daily time spent on activities in Madrid.\")\n",
    "else:\n",
    "    print(\"Do not reject H0. The population mean daily time spent on activities in Spokane is less than or equal to the population mean daily time spent on activities in Madrid.\")"
   ]
  },
  {
   "attachments": {},
   "cell_type": "markdown",
   "metadata": {},
   "source": [
    "My hypothesis in this case was also correct, although the p-value pf 3.91% is fairly close to my alpha level 5%. At the significance level of 0.05 average daily time spent on activities was higher in Spokane than in Madrid. I suppose this makes sense because most of my activities in Madrid involved walking short distances, while in Spokane the distances are larger and take more time even though I have a car."
   ]
  },
  {
   "attachments": {},
   "cell_type": "markdown",
   "metadata": {},
   "source": [
    "## 3. Machine Learning  \n",
    "* In this section I will classify the data using the kNN algorithm and a Decision Tree Classifier. In particular, I want to classify my study abroad data based on whether the activity segment falls on a weekday or a weekend. "
   ]
  },
  {
   "cell_type": "code",
   "execution_count": 119,
   "metadata": {},
   "outputs": [],
   "source": [
    "from sklearn.neighbors import KNeighborsClassifier\n",
    "from sklearn.metrics import accuracy_score\n",
    "from sklearn.preprocessing import MinMaxScaler\n",
    "from sklearn.model_selection import train_test_split"
   ]
  },
  {
   "cell_type": "code",
   "execution_count": 120,
   "metadata": {},
   "outputs": [
    {
     "name": "stdout",
     "output_type": "stream",
     "text": [
      "Weekend\n",
      "False    365\n",
      "True     277\n",
      "Name: count, dtype: int64\n"
     ]
    }
   ],
   "source": [
    "print(study_abroad_df[\"Weekend\"].value_counts())"
   ]
  },
  {
   "attachments": {},
   "cell_type": "markdown",
   "metadata": {},
   "source": [
    "* As seen above, there are 365 instances of Weekdays and 277 instances of Weekend days. This is not super equal but also not bad. My guess is that the classifiers will not do very well, but that the distance travelled will be one of the most significant features in determining weekends/weekdays. I will evaluate both classifiers using `sklearn.metrics.accuracy_score`.  \n",
    "\n",
    "* First, lets make our X and y. y will contain the \"Weekend Column\", and X will contain only informative numeric data."
   ]
  },
  {
   "cell_type": "code",
   "execution_count": 121,
   "metadata": {},
   "outputs": [],
   "source": [
    "X = study_abroad_df.drop(\"Weekend\", axis=1)\n",
    "y = study_abroad_df[\"Weekend\"]"
   ]
  },
  {
   "attachments": {},
   "cell_type": "markdown",
   "metadata": {},
   "source": [
    "* Lets take away uninformative columns and columns that would help my classifier cheat. Uninformative columns include Activity, which is categorical. Columns that would help the classifier cheat include date, start/end timestamps, and day of week.  "
   ]
  },
  {
   "cell_type": "code",
   "execution_count": 122,
   "metadata": {},
   "outputs": [
    {
     "data": {
      "text/html": [
       "<div>\n",
       "<style scoped>\n",
       "    .dataframe tbody tr th:only-of-type {\n",
       "        vertical-align: middle;\n",
       "    }\n",
       "\n",
       "    .dataframe tbody tr th {\n",
       "        vertical-align: top;\n",
       "    }\n",
       "\n",
       "    .dataframe thead th {\n",
       "        text-align: right;\n",
       "    }\n",
       "</style>\n",
       "<table border=\"1\" class=\"dataframe\">\n",
       "  <thead>\n",
       "    <tr style=\"text-align: right;\">\n",
       "      <th></th>\n",
       "      <th>Time Elapsed (min)</th>\n",
       "      <th>Start Latitude</th>\n",
       "      <th>Start Longitude</th>\n",
       "      <th>End Latitude</th>\n",
       "      <th>End Longitude</th>\n",
       "      <th>Distance (m)</th>\n",
       "      <th>Activity Code</th>\n",
       "    </tr>\n",
       "  </thead>\n",
       "  <tbody>\n",
       "    <tr>\n",
       "      <th>91</th>\n",
       "      <td>14.149283</td>\n",
       "      <td>40.4084030</td>\n",
       "      <td>-3.6995857</td>\n",
       "      <td>40.4055744</td>\n",
       "      <td>-3.7070124</td>\n",
       "      <td>1321</td>\n",
       "      <td>7</td>\n",
       "    </tr>\n",
       "  </tbody>\n",
       "</table>\n",
       "</div>"
      ],
      "text/plain": [
       "    Time Elapsed (min) Start Latitude Start Longitude End Latitude  \\\n",
       "91           14.149283     40.4084030      -3.6995857   40.4055744   \n",
       "\n",
       "   End Longitude  Distance (m)  Activity Code  \n",
       "91    -3.7070124          1321              7  "
      ]
     },
     "execution_count": 122,
     "metadata": {},
     "output_type": "execute_result"
    }
   ],
   "source": [
    "X.drop(\"Date\", axis=1, inplace=True)\n",
    "X.drop(\"Start Timestamp\", axis=1, inplace=True)\n",
    "X.drop(\"End Timestamp\", axis=1, inplace=True)\n",
    "X.drop(\"Day of Week\", axis=1, inplace=True)\n",
    "X.drop(\"Activity\", axis=1, inplace=True)\n",
    "\n",
    "X.sample()"
   ]
  },
  {
   "attachments": {},
   "cell_type": "markdown",
   "metadata": {},
   "source": [
    "* Next, lets divide the data into traninng and testing sets using the hold out method. I will hold out the default amount, which is 25%."
   ]
  },
  {
   "cell_type": "code",
   "execution_count": 123,
   "metadata": {},
   "outputs": [],
   "source": [
    "#divide into training and testing set\n",
    "X_train, X_test, y_train, y_test = train_test_split(X,y, random_state=0, stratify=y)"
   ]
  },
  {
   "attachments": {},
   "cell_type": "markdown",
   "metadata": {},
   "source": [
    "* Now we can normalize the data, which will make it all on the same scale."
   ]
  },
  {
   "cell_type": "code",
   "execution_count": 124,
   "metadata": {},
   "outputs": [],
   "source": [
    "# normalize data\n",
    "scaler = MinMaxScaler()\n",
    "scaler.fit(X_train)\n",
    "X_train_normalized = scaler.transform(X_train)\n",
    "X_test_normalized = scaler.transform(X_test)"
   ]
  },
  {
   "attachments": {},
   "cell_type": "markdown",
   "metadata": {},
   "source": [
    "* Now we can fit the data using a kNN classifier. After some experimentation I found that 2 neighbors produces the best results."
   ]
  },
  {
   "cell_type": "code",
   "execution_count": 125,
   "metadata": {},
   "outputs": [
    {
     "name": "stdout",
     "output_type": "stream",
     "text": [
      "accuracy : 0.6211180124223602\n"
     ]
    }
   ],
   "source": [
    "utils.kNN(X_train,y_train, X_test, y_test)"
   ]
  },
  {
   "attachments": {},
   "cell_type": "markdown",
   "metadata": {},
   "source": [
    "* The accuracy (62.11%) is not amazing, like I predicted. Lets use a Decision Tree Classifier now and see if that is better. I will print the Decision tree (with a max depth of 3) in order to see which traits may inform the classifier the most."
   ]
  },
  {
   "cell_type": "code",
   "execution_count": 126,
   "metadata": {},
   "outputs": [
    {
     "name": "stdout",
     "output_type": "stream",
     "text": [
      "accuracy : 0.6086956521739131\n"
     ]
    },
    {
     "data": {
      "image/png": "[encoded data removed]",
      "text/plain": [
       "<Figure size 700x700 with 1 Axes>"
      ]
     },
     "metadata": {},
     "output_type": "display_data"
    }
   ],
   "source": [
    "utils.decision_tree(X, X_train, y_train, X_test, y_test)"
   ]
  },
  {
   "attachments": {},
   "cell_type": "markdown",
   "metadata": {},
   "source": [
    "The accuracy of the decision tree (60.87%) is actually very close to the accuracy of the kNN classifier, which I did not expect. The attributes that most informed the classifer seem to be Time Elapsed, Start and End Latitude. I think that I was on the right track in thinking distance would be very significant, although instead of distance it was actually time elapsed. My theory as to why latitude and longitude were significant features is that on weekdays my start/end latitudes tended to be home and school, whereas on weekends I travelled to other areas. "
   ]
  },
  {
   "attachments": {},
   "cell_type": "markdown",
   "metadata": {},
   "source": [
    "### 4. Conclusion  \n",
    "* My Google Maps data was a pain to clean and analyze, but I think it gave me some interesting and valuable insights.\n",
    "* The classification on Weekend/Weekday was more accurate then I expected, and I am curious to see if I could remove or add features to make it more accurate \n",
    "    * possibly removing activity code, longitude values since they didnt seem as relevant\n",
    "    * adding features like rate of travel, as well as a label for where I was leaving from and where I was going, could help\n",
    "* Avg distance of activity segments in Spokane was larger than in Madrid, going against my prediction\n",
    "* Distance travelled on weekends in Madrid was larger than weekdays, like I predicted\n",
    "* Weather did not impact my time of activity segments in Madrid, like predicted\n",
    "\n",
    "\n",
    "#### Potential Impacts  \n",
    "* I think that the biggest ethical dilemma with this dataset is likely the fact that I am being tracked so closely wherever I go. It was kind of scary to see how accurate this data was, down to the exact latitude and longitude of my locations. As for my own work, I think that it could potentially be used by students looking to study abroad in Spain or just people wondering about the differences in transport between America and Europe generally. "
   ]
  }
 ],
 "metadata": {
  "kernelspec": {
   "display_name": "Python 3.9.12 ('base')",
   "language": "python",
   "name": "python3"
  },
  "language_info": {
   "codemirror_mode": {
    "name": "ipython",
    "version": 3
   },
   "file_extension": ".py",
   "mimetype": "text/x-python",
   "name": "python",
   "nbconvert_exporter": "python",
   "pygments_lexer": "ipython3",
   "version": "3.11.4"
  },
  "orig_nbformat": 4,
  "vscode": {
   "interpreter": {
    "hash": "93626ebdf6b37739e4ac5700c0dba13041517f6c4b50580fe5c850e4df425864"
   }
  }
 },
 "nbformat": 4,
 "nbformat_minor": 2
}
